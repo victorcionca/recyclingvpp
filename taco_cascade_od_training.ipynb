{
 "cells": [
  {
   "cell_type": "code",
   "execution_count": 4,
   "id": "3f2b7745",
   "metadata": {},
   "outputs": [],
   "source": [
    "import os"
   ]
  },
  {
   "cell_type": "code",
   "execution_count": 5,
   "id": "75f1a1d5",
   "metadata": {},
   "outputs": [],
   "source": [
    "taco_path = \"/home/tensorflow/waste/datasets/taco_dataset/\""
   ]
  },
  {
   "cell_type": "code",
   "execution_count": 3,
   "id": "19eca8c8",
   "metadata": {},
   "outputs": [],
   "source": [
    "import json"
   ]
  },
  {
   "cell_type": "code",
   "execution_count": 6,
   "id": "847e38f1",
   "metadata": {},
   "outputs": [],
   "source": [
    "taco_ann_raw = json.load(open(os.path.join(taco_path,'annotations.json'), 'r'))"
   ]
  },
  {
   "cell_type": "code",
   "execution_count": 13,
   "id": "415ec47a",
   "metadata": {},
   "outputs": [],
   "source": [
    "image_annotations = {}\n",
    "for img_ann in taco_ann_raw['annotations'][:min(1000, len(taco_ann_raw['annotations']))]:\n",
    "    img_id = img_ann['image_id']\n",
    "    img_bbox = img_ann['bbox']\n",
    "    if img_id in image_annotations:\n",
    "        image_annotations[img_id]['bboxes'].append(img_bbox)\n",
    "    else:\n",
    "        img_desc = taco_ann_raw['images'][img_id]\n",
    "        img_link = img_desc['flickr_url']\n",
    "        img_height = img_desc['height']\n",
    "        img_width = img_desc['width']\n",
    "        img_name = img_link.split('/')[-1]\n",
    "        img_path = os.path.join(taco_path, 'train', img_name)\n",
    "        if os.path.exists(img_path):\n",
    "            img_category = img_ann['category_id']\n",
    "            image_annotations[img_id] = {\"name\":img_name, \"bboxes\":[img_bbox],\n",
    "                                            \"category_id\":img_category,\n",
    "                                            \"width\":img_width,\n",
    "                                          \"height\":img_height}"
   ]
  },
  {
   "cell_type": "code",
   "execution_count": 15,
   "id": "6d23c9ba",
   "metadata": {},
   "outputs": [
    {
     "data": {
      "text/plain": [
       "290"
      ]
     },
     "execution_count": 15,
     "metadata": {},
     "output_type": "execute_result"
    }
   ],
   "source": [
    "len(image_annotations)"
   ]
  },
  {
   "cell_type": "markdown",
   "id": "a6b0266c",
   "metadata": {},
   "source": [
    "Translate the annotations into format for training the cascade filter"
   ]
  },
  {
   "cell_type": "code",
   "execution_count": 34,
   "id": "3ba9f632",
   "metadata": {},
   "outputs": [],
   "source": [
    "with open(os.path.join(taco_path, 'cascade_training_info.dat'), 'w') as f:\n",
    "    for img_an in image_annotations.values():\n",
    "        f.write(f\"{os.path.join(taco_path, 'train', img_an['name'])}\\t\")\n",
    "        f.write(f\"{len(img_an['bboxes'])}\\t\")\n",
    "        for bbox in img_an['bboxes']:\n",
    "            xs, ys, xe, ye = bbox\n",
    "            w = xe-xs\n",
    "            h = ye-ys\n",
    "            f.write(f\"{int(xs if w>0 else xe)} {int(ys if h>0 else ye)} {int(abs(w))} {int(abs(h))}\\t\")\n",
    "        f.write('\\n')"
   ]
  },
  {
   "cell_type": "markdown",
   "id": "40a368ee",
   "metadata": {},
   "source": [
    "### Background images"
   ]
  },
  {
   "cell_type": "code",
   "execution_count": 25,
   "id": "ad45f4ba",
   "metadata": {},
   "outputs": [],
   "source": [
    "dataset = '/home/tensorflow/waste/datasets/VOCdevkit/VOC2007/'"
   ]
  },
  {
   "cell_type": "code",
   "execution_count": 27,
   "id": "ec2202c4",
   "metadata": {},
   "outputs": [],
   "source": [
    "categories = ['bird', 'boat', 'bus', 'car', 'cow', 'horse', 'sheep', 'train']"
   ]
  },
  {
   "cell_type": "code",
   "execution_count": 28,
   "id": "6e7cfec9",
   "metadata": {},
   "outputs": [],
   "source": [
    "img_names = []\n",
    "for cat in categories:\n",
    "    cat_file_list = os.path.join(dataset, 'ImageSets/Main', f'{cat}_train.txt')\n",
    "    with open(cat_file_list, 'r') as f:\n",
    "        for l in f:\n",
    "            fields = l.strip().split()\n",
    "            present = int(fields[1])\n",
    "            if present > 0: img_names.append(fields[0])"
   ]
  },
  {
   "cell_type": "code",
   "execution_count": 31,
   "id": "46bca206",
   "metadata": {},
   "outputs": [],
   "source": [
    "with open(os.path.join(taco_path, 'bg_cascade.txt'), 'w') as f:\n",
    "    for img_name in img_names:\n",
    "        f.write(f\"{os.path.join(dataset,'JPEGImages',img_name)}\\n\")"
   ]
  },
  {
   "cell_type": "code",
   "execution_count": null,
   "id": "f8c9374c",
   "metadata": {},
   "outputs": [],
   "source": []
  }
 ],
 "metadata": {
  "kernelspec": {
   "display_name": "Python 3",
   "language": "python",
   "name": "python3"
  },
  "language_info": {
   "codemirror_mode": {
    "name": "ipython",
    "version": 3
   },
   "file_extension": ".py",
   "mimetype": "text/x-python",
   "name": "python",
   "nbconvert_exporter": "python",
   "pygments_lexer": "ipython3",
   "version": "3.6.9"
  }
 },
 "nbformat": 4,
 "nbformat_minor": 5
}
